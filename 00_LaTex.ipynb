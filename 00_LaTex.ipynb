{
 "cells": [
  {
   "cell_type": "markdown",
   "metadata": {},
   "source": [
    "# LaTex"
   ]
  },
  {
   "cell_type": "markdown",
   "metadata": {},
   "source": [
    "* [Markdown Cells](https://jupyter-notebook.readthedocs.io/en/stable/examples/Notebook/Working%20With%20Markdown%20Cells.html)\n",
    "\n",
    "* [Mathematical Python](https://www.math.ubc.ca/~pwalls/math-python/jupyter/markdown/)\n",
    "\n",
    "* [Writing Mathematical Expressions with Latex](https://link.springer.com/content/pdf/bbm%3A978-1-4842-3913-1%2F1.pdf)\n"
   ]
  },
  {
   "cell_type": "markdown",
   "metadata": {},
   "source": [
    "### Escrevendo expressões com Markdown e LaTex:"
   ]
  },
  {
   "cell_type": "code",
   "execution_count": 17,
   "metadata": {},
   "outputs": [],
   "source": [
    "# Exemplos\n",
    "\n",
    "# Ênfase:\n",
    "#*itálico*\n",
    "#**negrito**\n",
    "#`<código>`\n",
    "#-----------\n",
    "\n",
    "# Listas\n",
    "#1. Jupyter\n",
    "#    * Notebook\n",
    "#    * Markdown\n",
    "#    * Latex\n",
    "#2. Python\n",
    "#    * Datatypes and Operators\n",
    "#    * Functions\n",
    "#    * Logic and Loops\n",
    "#    * Modules and Packages\n",
    "#3. Scientific Computating in Python\n",
    "#    * NumPy\n",
    "#    * Matplotlib\n",
    "#    * SciPy\n",
    "#    * pandas\n",
    "# ----------------------------------\n",
    "\n",
    "# Link\n",
    "#[UBC Math](http://www.math.ubc.ca)\n",
    "# ---------------------------------------\n",
    "\n",
    "# Imagem:\n",
    "#![Uninove logo](http://www.sinergia.edu.br/wp-content/uploads/2016/10/uninove-logo-1200x480.jpg)\n",
    "# -----------------------------------------------------------------------------------------------\n",
    "\n",
    "# Tabela:\n",
    "#| Python Operator | Description  |\n",
    "#| :---: | :---: |\n",
    "#| `+` | addition |\n",
    "#| `-` | subtraction |\n",
    "#| `*` | multiplication |\n",
    "#| `/` | division |\n",
    "#| `**` | power |\n",
    "# ----------------------------------\n",
    "\n",
    "# Equações:\n",
    "# $$e^x=\\sum_{i=0}^\\infty \\frac{1}{i!}x^i$$\n",
    "# -----------------------------------------"
   ]
  },
  {
   "cell_type": "markdown",
   "metadata": {},
   "source": [
    "*itálico*\n",
    "**negrito**\n",
    "`<código>`"
   ]
  },
  {
   "cell_type": "markdown",
   "metadata": {},
   "source": [
    "1. Jupyter\n",
    "    * Notebook\n",
    "    * Markdown\n",
    "    * Latex\n",
    "2. Python\n",
    "    * Datatypes and Operators\n",
    "    * Functions\n",
    "    * Logic and Loops\n",
    "    * Modules and Packages\n",
    "3. Scientific Computating in Python\n",
    "    * NumPy\n",
    "    * Matplotlib\n",
    "    * SciPy\n",
    "    * pandas"
   ]
  },
  {
   "cell_type": "markdown",
   "metadata": {},
   "source": [
    "[UBC Math](http://www.math.ubc.ca)"
   ]
  },
  {
   "cell_type": "markdown",
   "metadata": {},
   "source": [
    "![Uninove logo](http://www.sinergia.edu.br/wp-content/uploads/2016/10/uninove-logo-1200x480.jpg)"
   ]
  },
  {
   "cell_type": "markdown",
   "metadata": {},
   "source": [
    "| Python Operator | Description  |\n",
    "| :---: | :---: |\n",
    "| `+` | addition |\n",
    "| `-` | subtraction |\n",
    "| `*` | multiplication |\n",
    "| `/` | division |\n",
    "| `**` | power |"
   ]
  },
  {
   "cell_type": "markdown",
   "metadata": {},
   "source": [
    "$$e^x=\\sum_{i=0}^\\infty \\frac{1}{i!}x^i$$"
   ]
  }
 ],
 "metadata": {
  "kernelspec": {
   "display_name": "Python 3",
   "language": "python",
   "name": "python3"
  },
  "language_info": {
   "codemirror_mode": {
    "name": "ipython",
    "version": 3
   },
   "file_extension": ".py",
   "mimetype": "text/x-python",
   "name": "python",
   "nbconvert_exporter": "python",
   "pygments_lexer": "ipython3",
   "version": "3.7.4"
  }
 },
 "nbformat": 4,
 "nbformat_minor": 2
}
